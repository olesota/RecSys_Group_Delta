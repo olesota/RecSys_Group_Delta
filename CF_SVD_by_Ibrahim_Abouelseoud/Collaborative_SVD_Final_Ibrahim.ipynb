{
 "cells": [
  {
   "cell_type": "code",
   "execution_count": 1,
   "metadata": {},
   "outputs": [
    {
     "name": "stdout",
     "output_type": "stream",
     "text": [
      "Populating the interactive namespace from numpy and matplotlib\n"
     ]
    }
   ],
   "source": [
    "%pylab inline\n",
    "# import seaborn as sns\n",
    "import pandas as pd\n",
    "import numpy as np\n",
    "from scipy.sparse import csr_matrix\n",
    "from scipy import sparse\n",
    "from scipy.sparse.linalg import svds"
   ]
  },
  {
   "cell_type": "code",
   "execution_count": 3,
   "metadata": {
    "collapsed": true
   },
   "outputs": [],
   "source": [
    "items_df = pd.read_csv('item_metadata.csv',usecols=[0]) #useless don't run cause real data is missing them"
   ]
  },
  {
   "cell_type": "markdown",
   "metadata": {},
   "source": [
    "# Final code - Ibrahim"
   ]
  },
  {
   "cell_type": "code",
   "execution_count": 2,
   "metadata": {
    "collapsed": true
   },
   "outputs": [],
   "source": [
    "train_df = pd.read_csv('train.csv',sep=',',usecols=['user_id','action_type','reference'])#,'impressions'])#,engine='python')"
   ]
  },
  {
   "cell_type": "code",
   "execution_count": 3,
   "metadata": {
    "collapsed": true
   },
   "outputs": [],
   "source": [
    "train_df.dropna(inplace=True)"
   ]
  },
  {
   "cell_type": "code",
   "execution_count": 4,
   "metadata": {
    "collapsed": true
   },
   "outputs": [],
   "source": [
    "user_ids=train_df.user_id.unique().tolist()"
   ]
  },
  {
   "cell_type": "code",
   "execution_count": 5,
   "metadata": {},
   "outputs": [
    {
     "data": {
      "text/plain": [
       "363874"
      ]
     },
     "execution_count": 5,
     "metadata": {},
     "output_type": "execute_result"
    }
   ],
   "source": [
    "hotel_ids_tmp=train_df.reference.unique().tolist()\n",
    "hotel_ids=list()\n",
    "for it_id in hotel_ids_tmp:\n",
    "    if(it_id.isdigit()):\n",
    "        hotel_ids.append(it_id)\n",
    "len(hotel_ids)"
   ]
  },
  {
   "cell_type": "code",
   "execution_count": 25,
   "metadata": {},
   "outputs": [
    {
     "data": {
      "text/plain": [
       "(730803, 927142)"
      ]
     },
     "execution_count": 25,
     "metadata": {},
     "output_type": "execute_result"
    }
   ],
   "source": [
    "shape"
   ]
  },
  {
   "cell_type": "code",
   "execution_count": 39,
   "metadata": {},
   "outputs": [
    {
     "ename": "MemoryError",
     "evalue": "",
     "output_type": "error",
     "traceback": [
      "\u001b[1;31m---------------------------------------------------------------------------\u001b[0m",
      "\u001b[1;31mMemoryError\u001b[0m                               Traceback (most recent call last)",
      "\u001b[1;32m<ipython-input-39-4fb14f206b73>\u001b[0m in \u001b[0;36m<module>\u001b[1;34m()\u001b[0m\n\u001b[1;32m----> 1\u001b[1;33m \u001b[0mutility_mtrx\u001b[0m\u001b[1;33m=\u001b[0m\u001b[0mnp\u001b[0m\u001b[1;33m.\u001b[0m\u001b[0mmatrix\u001b[0m\u001b[1;33m(\u001b[0m\u001b[0mnp\u001b[0m\u001b[1;33m.\u001b[0m\u001b[0mzeros\u001b[0m\u001b[1;33m(\u001b[0m\u001b[0mshape\u001b[0m\u001b[1;33m)\u001b[0m\u001b[1;33m)\u001b[0m\u001b[1;33m\u001b[0m\u001b[0m\n\u001b[0m",
      "\u001b[1;31mMemoryError\u001b[0m: "
     ]
    }
   ],
   "source": [
    "utility_mtrx=np.matrix(np.zeros(shape),np.uint8) #left this to show how even a uint8 can still cause memory error"
   ]
  },
  {
   "cell_type": "markdown",
   "metadata": {},
   "source": [
    "### Training starts here"
   ]
  },
  {
   "cell_type": "code",
   "execution_count": 13,
   "metadata": {
    "collapsed": true
   },
   "outputs": [],
   "source": [
    "utility_csr_mtrx=csr_matrix(shape,dtype=np.float32)"
   ]
  },
  {
   "cell_type": "code",
   "execution_count": 16,
   "metadata": {},
   "outputs": [
    {
     "name": "stderr",
     "output_type": "stream",
     "text": [
      "G:\\Program Files (x86)\\Microsoft Visual Studio\\Shared\\Anaconda3_64\\lib\\site-packages\\scipy\\sparse\\compressed.py:746: SparseEfficiencyWarning: Changing the sparsity structure of a csr_matrix is expensive. lil_matrix is more efficient.\n",
      "  SparseEfficiencyWarning)\n"
     ]
    }
   ],
   "source": [
    "#np rewrite\n",
    "for _, row in train_df.iterrows():\n",
    "    u_id=row['user_id']\n",
    "    it_id=row['reference']\n",
    "    if(not it_id.isdigit()):\n",
    "        continue\n",
    "    val=0\n",
    "    action=row['action_type']\n",
    "#     print(it_id)\n",
    "#     print(type(it_id))\n",
    "#     print(it_id in utility_df.columns)\n",
    "#     if it_id in hotel_ids:\n",
    "#         print(row)\n",
    "    if action == \"clickout item\":\n",
    "        val=5\n",
    "    elif action == \"interaction item rating\":\n",
    "        val=2\n",
    "    elif action == \"interaction item info\":\n",
    "        val=3\n",
    "    elif action == \"interaction item image\":\n",
    "        val=2\n",
    "    elif action == \"interaction item deals\":\n",
    "        val=3\n",
    "    u_idx=user_ids.index(u_id)\n",
    "    try:\n",
    "        it_idx=hotel_ids.index(it_id)\n",
    "    except ValueError:\n",
    "        print(it_id)\n",
    "        continue\n",
    "    \n",
    "    utility_csr_mtrx[u_idx,it_idx]=utility_csr_mtrx[u_idx,it_idx]+val"
   ]
  },
  {
   "cell_type": "code",
   "execution_count": 17,
   "metadata": {},
   "outputs": [
    {
     "data": {
      "text/plain": [
       "20.0"
      ]
     },
     "execution_count": 17,
     "metadata": {},
     "output_type": "execute_result"
    }
   ],
   "source": [
    "utility_csr_mtrx[0,0]"
   ]
  },
  {
   "cell_type": "code",
   "execution_count": null,
   "metadata": {
    "collapsed": true
   },
   "outputs": [],
   "source": [
    "# https://stackoverflow.com/questions/8955448/save-load-scipy-sparse-csr-matrix-in-portable-data-format"
   ]
  },
  {
   "cell_type": "code",
   "execution_count": 18,
   "metadata": {
    "collapsed": true
   },
   "outputs": [],
   "source": [
    "np.savez(\"csr_utility_mtrx\", data=utility_csr_mtrx.data, indices=utility_csr_mtrx.indices,indptr=utility_csr_mtrx.indptr, shape=utility_csr_mtrx.shape)"
   ]
  },
  {
   "cell_type": "markdown",
   "metadata": {},
   "source": [
    "## Loading starts from here"
   ]
  },
  {
   "cell_type": "code",
   "execution_count": 6,
   "metadata": {
    "collapsed": true
   },
   "outputs": [],
   "source": [
    "loader = np.load(\"csr_utility_mtrxScipy.npz\") #loading\n",
    "utility_csr_mtrx= csr_matrix((loader['data'], loader['indices'], loader['indptr']),shape=loader['shape'])"
   ]
  },
  {
   "cell_type": "code",
   "execution_count": 15,
   "metadata": {},
   "outputs": [
    {
     "data": {
      "text/plain": [
       "20.0"
      ]
     },
     "execution_count": 15,
     "metadata": {},
     "output_type": "execute_result"
    }
   ],
   "source": [
    "utility_csr_mtrx[0,0]"
   ]
  },
  {
   "cell_type": "code",
   "execution_count": 7,
   "metadata": {},
   "outputs": [
    {
     "data": {
      "text/plain": [
       "(730803, 363874)"
      ]
     },
     "execution_count": 7,
     "metadata": {},
     "output_type": "execute_result"
    }
   ],
   "source": [
    "utility_csr_mtrx.shape"
   ]
  },
  {
   "cell_type": "code",
   "execution_count": null,
   "metadata": {
    "collapsed": true
   },
   "outputs": [],
   "source": [
    "# https://antoinevastel.com/machine%20learning/python/2016/02/14/svd-recommender-system.html"
   ]
  },
  {
   "cell_type": "markdown",
   "metadata": {},
   "source": [
    "## For Computing SVD model"
   ]
  },
  {
   "cell_type": "code",
   "execution_count": 8,
   "metadata": {
    "collapsed": true
   },
   "outputs": [],
   "source": [
    "from scipy.sparse.linalg import svds\n",
    "def SVD(matrix, num_dim=6): #https://github.com/ZWMiller/svdRec/blob/master/svdRec/svdRec.py\n",
    "        \"\"\"\n",
    "        Computes the matrix decomposition for the data, setting U, V, and s to the output matrices.\n",
    "        This is based on 'svds', a singular value decomposition library designed to work with\n",
    "        scipy sparse matrices.\n",
    "        Input: num_dim (int): the number of dimensions for truncating SVD. \n",
    "        Returns: None\n",
    "        \"\"\"\n",
    "        U,s,V = svds(matrix,k=num_dim) # I leave k default to 6 cause memory\n",
    "        return U,s,V"
   ]
  },
  {
   "cell_type": "code",
   "execution_count": 9,
   "metadata": {
    "collapsed": true
   },
   "outputs": [],
   "source": [
    "def user_item_predict(U,V,userIdx,itemIdx):\n",
    "        \"\"\"\n",
    "        Helper function to return user-item similarity via dot product.\n",
    "        Input: U,V, Idx of user, item (int), Idx of item\n",
    "        Returns: Dot product of user-item matrix elements (float)\n",
    "        \"\"\"\n",
    "        return np.dot(U[userIdx],V.T[itemIdx])"
   ]
  },
  {
   "cell_type": "code",
   "execution_count": 10,
   "metadata": {
    "collapsed": true
   },
   "outputs": [],
   "source": [
    "def recommends_for_user(U,V, userIdx, num_recom=25, show_similarity=False):\n",
    "        \"\"\"\n",
    "        Loops through all items and finds the overlap in the reduced vector space\n",
    "        with the input user. Returns a list of the ID's for the most similar items, \n",
    "        as determined by the angular overlap. \n",
    "        Inputs: \n",
    "        user Idx (int): The user to return recommended items for, \n",
    "        num_recom (int): The number of items to recommend,\n",
    "        show_similarity (bool): If True, the returned values are tuples (itemID, dot product)\n",
    "        \n",
    "        Returns:\n",
    "        ItemIdx (int)\n",
    "        Dot Product (float) [if show_similarity = True]\n",
    "        \"\"\"\n",
    "        recs = []\n",
    "        for item in range(V.T.shape[0]):\n",
    "            recs.append((item,user_item_predict(U,V,userIdx,item)))\n",
    "        if show_similarity:\n",
    "            final_rec = [(i[0],i[1]) for i in sorted(recs,key=lambda x: x[1],reverse=True)]\n",
    "        else:\n",
    "            final_rec = [i[0] for i in sorted(recs,key=lambda x: x[1],reverse=True)]\n",
    "        if num_recom==None:\n",
    "            return final_rec\n",
    "        \n",
    "        return final_rec[:num_recom]"
   ]
  },
  {
   "cell_type": "markdown",
   "metadata": {},
   "source": [
    "####  testing if it works"
   ]
  },
  {
   "cell_type": "code",
   "execution_count": 28,
   "metadata": {},
   "outputs": [
    {
     "data": {
      "text/plain": [
       "145549"
      ]
     },
     "execution_count": 28,
     "metadata": {},
     "output_type": "execute_result"
    }
   ],
   "source": [
    "k=int(min(utility_csr_mtrx.shape)*0.4)\n",
    "k"
   ]
  },
  {
   "cell_type": "code",
   "execution_count": 30,
   "metadata": {
    "collapsed": true
   },
   "outputs": [],
   "source": [
    "u,s,v=SVD(utility_csr_mtrx)"
   ]
  },
  {
   "cell_type": "code",
   "execution_count": 50,
   "metadata": {},
   "outputs": [
    {
     "data": {
      "text/plain": [
       "[43134,\n",
       " 5256,\n",
       " 2419,\n",
       " 7044,\n",
       " 12027,\n",
       " 12370,\n",
       " 5255,\n",
       " 13751,\n",
       " 16791,\n",
       " 4797,\n",
       " 16307,\n",
       " 7509,\n",
       " 7510,\n",
       " 54582,\n",
       " 26725,\n",
       " 153499,\n",
       " 7518,\n",
       " 523,\n",
       " 5941,\n",
       " 13834,\n",
       " 63805,\n",
       " 10553,\n",
       " 24224,\n",
       " 4796,\n",
       " 9676]"
      ]
     },
     "execution_count": 50,
     "metadata": {},
     "output_type": "execute_result"
    }
   ],
   "source": [
    "recommends_for_user(u,v, 0)"
   ]
  },
  {
   "cell_type": "markdown",
   "metadata": {},
   "source": [
    "## Testing starts here"
   ]
  },
  {
   "cell_type": "code",
   "execution_count": 16,
   "metadata": {},
   "outputs": [
    {
     "data": {
      "text/html": [
       "<div>\n",
       "<style scoped>\n",
       "    .dataframe tbody tr th:only-of-type {\n",
       "        vertical-align: middle;\n",
       "    }\n",
       "\n",
       "    .dataframe tbody tr th {\n",
       "        vertical-align: top;\n",
       "    }\n",
       "\n",
       "    .dataframe thead th {\n",
       "        text-align: right;\n",
       "    }\n",
       "</style>\n",
       "<table border=\"1\" class=\"dataframe\">\n",
       "  <thead>\n",
       "    <tr style=\"text-align: right;\">\n",
       "      <th></th>\n",
       "      <th>user_id</th>\n",
       "      <th>session_id</th>\n",
       "      <th>timestamp</th>\n",
       "      <th>step</th>\n",
       "      <th>action_type</th>\n",
       "      <th>reference</th>\n",
       "      <th>platform</th>\n",
       "      <th>city</th>\n",
       "      <th>device</th>\n",
       "      <th>current_filters</th>\n",
       "      <th>impressions</th>\n",
       "      <th>prices</th>\n",
       "    </tr>\n",
       "  </thead>\n",
       "  <tbody>\n",
       "    <tr>\n",
       "      <th>0</th>\n",
       "      <td>004A07DM0IDW</td>\n",
       "      <td>1d688ec168932</td>\n",
       "      <td>1541555614</td>\n",
       "      <td>1</td>\n",
       "      <td>interaction item image</td>\n",
       "      <td>2059240</td>\n",
       "      <td>CO</td>\n",
       "      <td>Santa Marta, Colombia</td>\n",
       "      <td>mobile</td>\n",
       "      <td>NaN</td>\n",
       "      <td>NaN</td>\n",
       "      <td>NaN</td>\n",
       "    </tr>\n",
       "    <tr>\n",
       "      <th>1</th>\n",
       "      <td>004A07DM0IDW</td>\n",
       "      <td>1d688ec168932</td>\n",
       "      <td>1541555614</td>\n",
       "      <td>2</td>\n",
       "      <td>interaction item image</td>\n",
       "      <td>2059240</td>\n",
       "      <td>CO</td>\n",
       "      <td>Santa Marta, Colombia</td>\n",
       "      <td>mobile</td>\n",
       "      <td>NaN</td>\n",
       "      <td>NaN</td>\n",
       "      <td>NaN</td>\n",
       "    </tr>\n",
       "    <tr>\n",
       "      <th>2</th>\n",
       "      <td>004A07DM0IDW</td>\n",
       "      <td>1d688ec168932</td>\n",
       "      <td>1541555696</td>\n",
       "      <td>3</td>\n",
       "      <td>clickout item</td>\n",
       "      <td>1050068</td>\n",
       "      <td>CO</td>\n",
       "      <td>Santa Marta, Colombia</td>\n",
       "      <td>mobile</td>\n",
       "      <td>NaN</td>\n",
       "      <td>2059240|2033381|1724779|127131|399441|103357|1...</td>\n",
       "      <td>70|46|48|76|65|65|106|66|87|43|52|44|60|61|50|...</td>\n",
       "    </tr>\n",
       "    <tr>\n",
       "      <th>3</th>\n",
       "      <td>004A07DM0IDW</td>\n",
       "      <td>1d688ec168932</td>\n",
       "      <td>1541555707</td>\n",
       "      <td>4</td>\n",
       "      <td>clickout item</td>\n",
       "      <td>1050068</td>\n",
       "      <td>CO</td>\n",
       "      <td>Santa Marta, Colombia</td>\n",
       "      <td>mobile</td>\n",
       "      <td>NaN</td>\n",
       "      <td>2059240|2033381|1724779|127131|399441|103357|1...</td>\n",
       "      <td>70|46|48|76|65|65|106|66|87|43|52|44|60|61|50|...</td>\n",
       "    </tr>\n",
       "    <tr>\n",
       "      <th>4</th>\n",
       "      <td>004A07DM0IDW</td>\n",
       "      <td>1d688ec168932</td>\n",
       "      <td>1541555717</td>\n",
       "      <td>5</td>\n",
       "      <td>clickout item</td>\n",
       "      <td>1050068</td>\n",
       "      <td>CO</td>\n",
       "      <td>Santa Marta, Colombia</td>\n",
       "      <td>mobile</td>\n",
       "      <td>NaN</td>\n",
       "      <td>2059240|2033381|1724779|127131|399441|103357|1...</td>\n",
       "      <td>70|46|48|76|65|65|106|66|87|43|52|44|60|61|50|...</td>\n",
       "    </tr>\n",
       "    <tr>\n",
       "      <th>5</th>\n",
       "      <td>004A07DM0IDW</td>\n",
       "      <td>1d688ec168932</td>\n",
       "      <td>1541555792</td>\n",
       "      <td>6</td>\n",
       "      <td>clickout item</td>\n",
       "      <td>3241426</td>\n",
       "      <td>CO</td>\n",
       "      <td>Santa Marta, Colombia</td>\n",
       "      <td>mobile</td>\n",
       "      <td>NaN</td>\n",
       "      <td>2059240|2033381|1724779|127131|399441|103357|1...</td>\n",
       "      <td>70|46|48|76|65|65|106|66|87|43|52|44|60|61|50|...</td>\n",
       "    </tr>\n",
       "    <tr>\n",
       "      <th>6</th>\n",
       "      <td>004A07DM0IDW</td>\n",
       "      <td>1d688ec168932</td>\n",
       "      <td>1541555799</td>\n",
       "      <td>7</td>\n",
       "      <td>clickout item</td>\n",
       "      <td>NaN</td>\n",
       "      <td>CO</td>\n",
       "      <td>Santa Marta, Colombia</td>\n",
       "      <td>mobile</td>\n",
       "      <td>NaN</td>\n",
       "      <td>2059240|2033381|1724779|127131|399441|103357|1...</td>\n",
       "      <td>70|46|48|76|65|65|106|66|87|43|52|44|60|61|50|...</td>\n",
       "    </tr>\n",
       "    <tr>\n",
       "      <th>7</th>\n",
       "      <td>009RGHI3G9A3</td>\n",
       "      <td>f05ab0de907e2</td>\n",
       "      <td>1541570935</td>\n",
       "      <td>1</td>\n",
       "      <td>interaction item info</td>\n",
       "      <td>7065316</td>\n",
       "      <td>IN</td>\n",
       "      <td>Nathdwara, India</td>\n",
       "      <td>mobile</td>\n",
       "      <td>NaN</td>\n",
       "      <td>NaN</td>\n",
       "      <td>NaN</td>\n",
       "    </tr>\n",
       "    <tr>\n",
       "      <th>8</th>\n",
       "      <td>009RGHI3G9A3</td>\n",
       "      <td>f05ab0de907e2</td>\n",
       "      <td>1541570940</td>\n",
       "      <td>2</td>\n",
       "      <td>clickout item</td>\n",
       "      <td>NaN</td>\n",
       "      <td>IN</td>\n",
       "      <td>Nathdwara, India</td>\n",
       "      <td>mobile</td>\n",
       "      <td>NaN</td>\n",
       "      <td>10884872|7065316</td>\n",
       "      <td>64|28</td>\n",
       "    </tr>\n",
       "    <tr>\n",
       "      <th>9</th>\n",
       "      <td>00Y1Z24X8084</td>\n",
       "      <td>26b6d294d66e7</td>\n",
       "      <td>1541651766</td>\n",
       "      <td>1</td>\n",
       "      <td>clickout item</td>\n",
       "      <td>3843244</td>\n",
       "      <td>PH</td>\n",
       "      <td>Iloilo City, Philippines</td>\n",
       "      <td>mobile</td>\n",
       "      <td>NaN</td>\n",
       "      <td>2714480|4476010|3843244|3833012|9017890|198100...</td>\n",
       "      <td>74|14|22|38|55|44|28|34|23|27|12|108|19|21|36|...</td>\n",
       "    </tr>\n",
       "  </tbody>\n",
       "</table>\n",
       "</div>"
      ],
      "text/plain": [
       "        user_id     session_id   timestamp  step             action_type  \\\n",
       "0  004A07DM0IDW  1d688ec168932  1541555614     1  interaction item image   \n",
       "1  004A07DM0IDW  1d688ec168932  1541555614     2  interaction item image   \n",
       "2  004A07DM0IDW  1d688ec168932  1541555696     3           clickout item   \n",
       "3  004A07DM0IDW  1d688ec168932  1541555707     4           clickout item   \n",
       "4  004A07DM0IDW  1d688ec168932  1541555717     5           clickout item   \n",
       "5  004A07DM0IDW  1d688ec168932  1541555792     6           clickout item   \n",
       "6  004A07DM0IDW  1d688ec168932  1541555799     7           clickout item   \n",
       "7  009RGHI3G9A3  f05ab0de907e2  1541570935     1   interaction item info   \n",
       "8  009RGHI3G9A3  f05ab0de907e2  1541570940     2           clickout item   \n",
       "9  00Y1Z24X8084  26b6d294d66e7  1541651766     1           clickout item   \n",
       "\n",
       "  reference platform                      city  device current_filters  \\\n",
       "0   2059240       CO     Santa Marta, Colombia  mobile             NaN   \n",
       "1   2059240       CO     Santa Marta, Colombia  mobile             NaN   \n",
       "2   1050068       CO     Santa Marta, Colombia  mobile             NaN   \n",
       "3   1050068       CO     Santa Marta, Colombia  mobile             NaN   \n",
       "4   1050068       CO     Santa Marta, Colombia  mobile             NaN   \n",
       "5   3241426       CO     Santa Marta, Colombia  mobile             NaN   \n",
       "6       NaN       CO     Santa Marta, Colombia  mobile             NaN   \n",
       "7   7065316       IN          Nathdwara, India  mobile             NaN   \n",
       "8       NaN       IN          Nathdwara, India  mobile             NaN   \n",
       "9   3843244       PH  Iloilo City, Philippines  mobile             NaN   \n",
       "\n",
       "                                         impressions  \\\n",
       "0                                                NaN   \n",
       "1                                                NaN   \n",
       "2  2059240|2033381|1724779|127131|399441|103357|1...   \n",
       "3  2059240|2033381|1724779|127131|399441|103357|1...   \n",
       "4  2059240|2033381|1724779|127131|399441|103357|1...   \n",
       "5  2059240|2033381|1724779|127131|399441|103357|1...   \n",
       "6  2059240|2033381|1724779|127131|399441|103357|1...   \n",
       "7                                                NaN   \n",
       "8                                   10884872|7065316   \n",
       "9  2714480|4476010|3843244|3833012|9017890|198100...   \n",
       "\n",
       "                                              prices  \n",
       "0                                                NaN  \n",
       "1                                                NaN  \n",
       "2  70|46|48|76|65|65|106|66|87|43|52|44|60|61|50|...  \n",
       "3  70|46|48|76|65|65|106|66|87|43|52|44|60|61|50|...  \n",
       "4  70|46|48|76|65|65|106|66|87|43|52|44|60|61|50|...  \n",
       "5  70|46|48|76|65|65|106|66|87|43|52|44|60|61|50|...  \n",
       "6  70|46|48|76|65|65|106|66|87|43|52|44|60|61|50|...  \n",
       "7                                                NaN  \n",
       "8                                              64|28  \n",
       "9  74|14|22|38|55|44|28|34|23|27|12|108|19|21|36|...  "
      ]
     },
     "execution_count": 16,
     "metadata": {},
     "output_type": "execute_result"
    }
   ],
   "source": [
    "test_df = pd.read_csv('test.csv')\n",
    "test_df.head(10)"
   ]
  },
  {
   "cell_type": "code",
   "execution_count": 19,
   "metadata": {},
   "outputs": [
    {
     "data": {
      "text/plain": [
       "scipy.sparse.csr.csr_matrix"
      ]
     },
     "execution_count": 19,
     "metadata": {},
     "output_type": "execute_result"
    }
   ],
   "source": [
    "type(utility_csr_mtrx)"
   ]
  },
  {
   "cell_type": "code",
   "execution_count": 11,
   "metadata": {
    "collapsed": true
   },
   "outputs": [],
   "source": [
    "test_df = pd.read_csv('test.csv',usecols=['user_id','session_id','timestamp','step','user_id','action_type','reference','impressions'])"
   ]
  },
  {
   "cell_type": "markdown",
   "metadata": {},
   "source": [
    "#### Extending user index"
   ]
  },
  {
   "cell_type": "code",
   "execution_count": 12,
   "metadata": {
    "collapsed": true
   },
   "outputs": [],
   "source": [
    "testIdx_user_start=len(user_ids)"
   ]
  },
  {
   "cell_type": "code",
   "execution_count": 63,
   "metadata": {},
   "outputs": [
    {
     "data": {
      "text/plain": [
       "'ZYNMLE3MV3LK'"
      ]
     },
     "execution_count": 63,
     "metadata": {},
     "output_type": "execute_result"
    }
   ],
   "source": [
    "user_ids[len(user_ids)-1]"
   ]
  },
  {
   "cell_type": "code",
   "execution_count": 13,
   "metadata": {},
   "outputs": [
    {
     "data": {
      "text/plain": [
       "250852"
      ]
     },
     "execution_count": 13,
     "metadata": {},
     "output_type": "execute_result"
    }
   ],
   "source": [
    "len(test_df.user_id.unique().tolist())"
   ]
  },
  {
   "cell_type": "code",
   "execution_count": 14,
   "metadata": {
    "collapsed": true
   },
   "outputs": [],
   "source": [
    "user_ids.extend(test_df.user_id.unique().tolist())"
   ]
  },
  {
   "cell_type": "code",
   "execution_count": 16,
   "metadata": {},
   "outputs": [
    {
     "data": {
      "text/plain": [
       "730803"
      ]
     },
     "execution_count": 16,
     "metadata": {},
     "output_type": "execute_result"
    }
   ],
   "source": [
    "testIdx_user_start"
   ]
  },
  {
   "cell_type": "code",
   "execution_count": 15,
   "metadata": {},
   "outputs": [
    {
     "data": {
      "text/plain": [
       "981655"
      ]
     },
     "execution_count": 15,
     "metadata": {},
     "output_type": "execute_result"
    }
   ],
   "source": [
    "len(user_ids)"
   ]
  },
  {
   "cell_type": "code",
   "execution_count": 60,
   "metadata": {},
   "outputs": [
    {
     "data": {
      "text/plain": [
       "list"
      ]
     },
     "execution_count": 60,
     "metadata": {},
     "output_type": "execute_result"
    }
   ],
   "source": [
    "type(user_ids)"
   ]
  },
  {
   "cell_type": "markdown",
   "metadata": {},
   "source": [
    "### Extending hotel Index"
   ]
  },
  {
   "cell_type": "code",
   "execution_count": 17,
   "metadata": {
    "collapsed": true
   },
   "outputs": [],
   "source": [
    "test_df_noNan=test_df.dropna(subset=['action_type','reference'])"
   ]
  },
  {
   "cell_type": "code",
   "execution_count": 18,
   "metadata": {
    "collapsed": true
   },
   "outputs": [],
   "source": [
    "testIdx_hotel_start=len(hotel_ids)"
   ]
  },
  {
   "cell_type": "code",
   "execution_count": 19,
   "metadata": {},
   "outputs": [
    {
     "data": {
      "text/plain": [
       "394238"
      ]
     },
     "execution_count": 19,
     "metadata": {},
     "output_type": "execute_result"
    }
   ],
   "source": [
    "hotel_ids_tmp=test_df_noNan.reference.unique().tolist()\n",
    "for it_id in hotel_ids_tmp:\n",
    "    if(it_id.isdigit()):\n",
    "        if(not(it_id in hotel_ids)):\n",
    "            hotel_ids.append(it_id)\n",
    "len(hotel_ids)"
   ]
  },
  {
   "cell_type": "code",
   "execution_count": 20,
   "metadata": {},
   "outputs": [
    {
     "data": {
      "text/plain": [
       "363874"
      ]
     },
     "execution_count": 20,
     "metadata": {},
     "output_type": "execute_result"
    }
   ],
   "source": [
    "testIdx_hotel_start"
   ]
  },
  {
   "cell_type": "code",
   "execution_count": 76,
   "metadata": {},
   "outputs": [
    {
     "data": {
      "text/plain": [
       "(730803, 363874)"
      ]
     },
     "execution_count": 76,
     "metadata": {},
     "output_type": "execute_result"
    }
   ],
   "source": [
    "utility_csr_mtrx.shape"
   ]
  },
  {
   "cell_type": "code",
   "execution_count": 78,
   "metadata": {},
   "outputs": [
    {
     "data": {
      "text/plain": [
       "(981655, 363874)"
      ]
     },
     "execution_count": 78,
     "metadata": {},
     "output_type": "execute_result"
    }
   ],
   "source": [
    "# newShape=(utility_csr_mtrx.shape[0]+len(test_df.user_id.unique().tolist()),utility_csr_mtrx.shape[1])\n",
    "# newShape"
   ]
  },
  {
   "cell_type": "code",
   "execution_count": 21,
   "metadata": {
    "collapsed": true
   },
   "outputs": [],
   "source": [
    "utility_csr_mtrx.resize((len(user_ids),len(hotel_ids)))"
   ]
  },
  {
   "cell_type": "code",
   "execution_count": null,
   "metadata": {},
   "outputs": [
    {
     "name": "stderr",
     "output_type": "stream",
     "text": [
      "G:\\Program Files (x86)\\Microsoft Visual Studio\\Shared\\Anaconda3_64\\lib\\site-packages\\scipy\\sparse\\compressed.py:746: SparseEfficiencyWarning: Changing the sparsity structure of a csr_matrix is expensive. lil_matrix is more efficient.\n",
      "  SparseEfficiencyWarning)\n"
     ]
    }
   ],
   "source": [
    "for _, row in test_df_noNan.iterrows():\n",
    "    u_id=row['user_id']\n",
    "    it_id=row['reference']\n",
    "    if(not it_id.isdigit()):\n",
    "        continue\n",
    "    val=0\n",
    "    action=row['action_type']\n",
    "    if action == \"clickout item\":\n",
    "        val=5\n",
    "    elif action == \"interaction item rating\":\n",
    "        val=2\n",
    "    elif action == \"interaction item info\":\n",
    "        val=3\n",
    "    elif action == \"interaction item image\":\n",
    "        val=2\n",
    "    elif action == \"interaction item deals\":\n",
    "        val=3\n",
    "    u_idx=user_ids.index(u_id)\n",
    "    try:\n",
    "        it_idx=hotel_ids.index(it_id)\n",
    "    except ValueError:\n",
    "        print(it_id) #hotel doesnt exist\n",
    "        continue\n",
    "    \n",
    "    utility_csr_mtrx[u_idx,it_idx]=utility_csr_mtrx[u_idx,it_idx]+val"
   ]
  },
  {
   "cell_type": "code",
   "execution_count": null,
   "metadata": {
    "collapsed": true
   },
   "outputs": [],
   "source": [
    "# save matrix with testing set loaded\n",
    "np.savez(\"csr_utility_mtrxTest.npz\", data=utility_csr_mtrx.data, indices=utility_csr_mtrx.indices,indptr=utility_csr_mtrx.indptr, shape=utility_csr_mtrx.shape)"
   ]
  },
  {
   "cell_type": "markdown",
   "metadata": {},
   "source": [
    "## Getting recommendations for test"
   ]
  },
  {
   "cell_type": "code",
   "execution_count": null,
   "metadata": {
    "collapsed": true
   },
   "outputs": [],
   "source": [
    "# If not already loaded\n",
    "loader = np.load(\"csr_utility_mtrxTest.npz\") #loading\n",
    "utility_csr_mtrx= csr_matrix((loader['data'], loader['indices'], loader['indptr']),shape=loader['shape'])"
   ]
  },
  {
   "cell_type": "code",
   "execution_count": null,
   "metadata": {
    "collapsed": true
   },
   "outputs": [],
   "source": [
    "test_refNan=test_df[test_df['reference'].isnull()].dropna(subset=['impressions'])"
   ]
  },
  {
   "cell_type": "code",
   "execution_count": null,
   "metadata": {
    "collapsed": true
   },
   "outputs": [],
   "source": [
    "#Won't pass hotel_ids index to this function but will use it globally to save processor jump time\n",
    "def translate_rec_n_filter(recommandations,impressions):\n",
    "    res=\"\" #string not array to upload and compare\n",
    "    hotels=impressions.split(\"|\")\n",
    "    count=0\n",
    "    for it_idx in recommandations:\n",
    "        hotel=hotel_ids[it_idx]\n",
    "        if hotel in hotels: #exists in impressions\n",
    "            res=res+\" \"+hotel\n",
    "            count=count+1\n",
    "            if count>=25:\n",
    "                return res"
   ]
  },
  {
   "cell_type": "code",
   "execution_count": null,
   "metadata": {
    "collapsed": true
   },
   "outputs": [],
   "source": [
    "u,s,v=SVD(utility_csr_mtrx)"
   ]
  },
  {
   "cell_type": "code",
   "execution_count": null,
   "metadata": {
    "collapsed": true
   },
   "outputs": [],
   "source": [
    "with open('Gamma_IbrahimAbouelseoud_SVD.csv', 'a') as file:\n",
    "    totalSize=str(test_refNan.shape[0])\n",
    "    file.write('user_id'+ ',' + 'session_id'+ ',' +'timestamp'+ ',' +'step'+ ',' +'item_recommendations'+ '\\n')\n",
    "    for i,entry in test_refNan.iterrows():\n",
    "        rec=translate_rec_n_filter(recommends_for_user(u,v, user_ids.index(entry['user_id']), num_recom=None),entry['impressions'])\n",
    "        file.write(str(entry['user_id'])+ ',' +str(entry['session_id'])+ ',' +str(entry['timestamp'])+ ',' +str(entry['step'])+ ',' +str(rec))\n",
    "        if(i%1000==0):\n",
    "            file.flush()\n",
    "            print(str(i)+\" out of\"+totalSize)"
   ]
  }
 ],
 "metadata": {
  "kernelspec": {
   "display_name": "Python 3",
   "language": "python",
   "name": "python3"
  },
  "language_info": {
   "codemirror_mode": {
    "name": "ipython",
    "version": 3
   },
   "file_extension": ".py",
   "mimetype": "text/x-python",
   "name": "python",
   "nbconvert_exporter": "python",
   "pygments_lexer": "ipython3",
   "version": "3.6.8"
  }
 },
 "nbformat": 4,
 "nbformat_minor": 2
}
